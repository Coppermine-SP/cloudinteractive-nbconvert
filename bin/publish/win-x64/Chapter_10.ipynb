{
 "cells": [
  {
   "cell_type": "code",
   "execution_count": 29,
   "metadata": {},
   "outputs": [
    {
     "name": "stdout",
     "output_type": "stream",
     "text": [
      "<class 'function'>\n",
      "<class 'function'>\n"
     ]
    }
   ],
   "source": [
    "# 문제 10.1 / Python에서 function은 무슨 type의 object인가?\n",
    "\n",
    "f1 = lambda x : x * x\n",
    "def f2(x):\n",
    "    return x * x\n",
    "\n",
    "print(type(f1))\n",
    "print(type(f2))"
   ]
  },
  {
   "cell_type": "code",
   "execution_count": 30,
   "metadata": {},
   "outputs": [
    {
     "data": {
      "text/plain": [
       "130"
      ]
     },
     "execution_count": 30,
     "metadata": {},
     "output_type": "execute_result"
    }
   ],
   "source": [
    "# 문제 10.2 / 코드에서 문제 수정하기.\n",
    "\n",
    "# 1\n",
    "f = lambda x : x * x\n",
    "\n",
    "# lambda expression f는 parameter가 하나이다.\n",
    "f(10)\n",
    "\n",
    "# 2\n",
    "f = lambda x, y : x + y\n",
    "\n",
    "# lambda expression f는 parameter가 2개 이다.\n",
    "f(10,10)\n",
    "\n",
    "# 3\n",
    "# lambda expession에서는 새로운 변수에 값을 할당 할 수 없다.\n",
    "f = lambda x, y : x + y + 100\n",
    "\n",
    "f(10, 20)\n"
   ]
  },
  {
   "cell_type": "code",
   "execution_count": 31,
   "metadata": {},
   "outputs": [
    {
     "name": "stdout",
     "output_type": "stream",
     "text": [
      "[('YuSin', 'Gim', 34), ('GilDong', 'Hong', 27), ('SunSin', 'Lee', 46)]\n",
      "[('SunSin', 'Lee', 46), ('YuSin', 'Gim', 34), ('GilDong', 'Hong', 27)]\n"
     ]
    }
   ],
   "source": [
    "# 문제 10.3 / list 정렬하기.\n",
    "\n",
    "persons = [('GilDong', \"Hong\", 27), (\"SunSin\", \"Lee\", 46), (\"YuSin\", \"Gim\", 34)]\n",
    "\n",
    "print(sorted(persons, key = lambda x: x[1]))\n",
    "print(sorted(persons, key = lambda x: -x[2]))"
   ]
  },
  {
   "cell_type": "code",
   "execution_count": 32,
   "metadata": {},
   "outputs": [
    {
     "name": "stdout",
     "output_type": "stream",
     "text": [
      "[('Half', 'HALF'), ('of', 'OF'), ('my', 'MY'), ('heart', 'HEART'), ('is', 'IS'), ('in', 'IN'), ('Havana', 'HAVANA')]\n",
      "[('Half', 'HALF'), ('of', 'OF'), ('my', 'MY'), ('heart', 'HEART'), ('is', 'IS'), ('in', 'IN'), ('Havana', 'HAVANA')]\n"
     ]
    }
   ],
   "source": [
    "# 문제 10.4 / 문자열에서 단어별로 구분하기.\n",
    "\n",
    "lyrics = \"Half of my heart is in Havana\"\n",
    "\n",
    "# 1. for문을 통한 구현\n",
    "lst = []\n",
    "for s in lyrics.split():\n",
    "    lst.append((s, s.upper()))\n",
    "print(lst)\n",
    "\n",
    "# 2. list comprehension을 통한 구현\n",
    "print([(x, x.upper()) for x in lyrics.split()])"
   ]
  },
  {
   "cell_type": "code",
   "execution_count": 33,
   "metadata": {},
   "outputs": [
    {
     "name": "stdout",
     "output_type": "stream",
     "text": [
      "[('Half', 4), ('of', 2), ('my', 2), ('heart', 5), ('is', 2), ('in', 2), ('Havana', 6)]\n",
      "[('Half', 4), ('of', 2), ('my', 2), ('heart', 5), ('is', 2), ('in', 2), ('Havana', 6)]\n"
     ]
    }
   ],
   "source": [
    "# 문제 10.5 / 문자열에서 각 단어와 단어의 길이로 구분하기.\n",
    "\n",
    "lyrics = \"Half of my heart is in Havana\"\n",
    "\n",
    "# 1. for문을 통한 구현\n",
    "lst = []\n",
    "for s in lyrics.split():\n",
    "    lst.append((s, len(s)))\n",
    "print(lst)\n",
    "\n",
    "# 2. list comprehension을 통한 구현\n",
    "print([(x, len(x)) for x in lyrics.split()])"
   ]
  },
  {
   "cell_type": "code",
   "execution_count": 34,
   "metadata": {},
   "outputs": [
    {
     "name": "stdout",
     "output_type": "stream",
     "text": [
      "n_list = [44, 66, 34, 24, 144, 98, 38, 568, 345]\n",
      "new_list = [24, 144]\n",
      "new_list = [24, 144]\n",
      "new_list = [24, 144]\n"
     ]
    }
   ],
   "source": [
    "# 문제 10.6 / 리스트에서 12의 배수를 모두 찾기.\n",
    "\n",
    "n_list = [44,66,34,24,144,98,38,568,345]\n",
    "printlst = lambda x, y : print(f\"{x} =\", y)\n",
    "\n",
    "printlst(\"n_list\", n_list)\n",
    "# 1. for문을 통한 구현\n",
    "new_list = []\n",
    "for i in n_list:\n",
    "    if i % 12 == 0:\n",
    "        new_list.append(i)\n",
    "printlst(\"new_list\", new_list)\n",
    "\n",
    "# 2. filter function를 통한 구현\n",
    "printlst(\"new_list\", list(filter(lambda x: x % 12 == 0, n_list)))\n",
    "\n",
    "# 3. list comprehension을 통한 구현\n",
    "printlst(\"new_list\", [x for x in n_list if x % 12 == 0])\n"
   ]
  },
  {
   "cell_type": "code",
   "execution_count": 35,
   "metadata": {},
   "outputs": [
    {
     "name": "stdout",
     "output_type": "stream",
     "text": [
      "n_list = [-22.3, 29.44, 902.2, 45.7, -887.1, -56.3]\n",
      "new_list = [29, 902, 45]\n",
      "new_list = [29, 902, 45]\n",
      "new_list = [29, 902, 45]\n"
     ]
    }
   ],
   "source": [
    "# 문제 10.7 / 리스트에서 양의 실수 값을 가지는 항목을 추출하기.\n",
    "\n",
    "n_list = [-22.3,29.44,902.2,45.7,-887.1,-56.3]\n",
    "printlst = lambda x, y : print(f\"{x} =\", y)\n",
    "\n",
    "printlst(\"n_list\", n_list)\n",
    "# 1. for문을 통한 구현\n",
    "new_list = []\n",
    "for i in n_list:\n",
    "    if i > 0:\n",
    "        new_list.append(int(i))\n",
    "printlst(\"new_list\", new_list)\n",
    "\n",
    "# 2. filter function을 통한 구현\n",
    "printlst(\"new_list\", list(map(int, filter(lambda x: x > 0, n_list))))\n",
    "\n",
    "# 3. list comprehension을 통한 구현\n",
    "printlst(\"new_list\", [int(x) for x in n_list if x > 0])\n"
   ]
  },
  {
   "cell_type": "code",
   "execution_count": 36,
   "metadata": {},
   "outputs": [
    {
     "name": "stdout",
     "output_type": "stream",
     "text": [
      "n_list = [-22.3, 29.44, 902.2, 45.7, -887.1, -56.3]\n",
      "최댓값 : 902.2\n",
      "최솟값 : -887.1\n",
      "최댓값 : 902.2\n",
      "최솟값 : -887.1\n",
      "최댓값 : 902.2\n",
      "최솟값 : -887.1\n"
     ]
    }
   ],
   "source": [
    "# 문제 10.8 / 리스트에서 최대, 최소값 찾기.\n",
    "\n",
    "from functools import * \n",
    "\n",
    "n_list = [-22.3, 29.44, 902.2, 45.7, -887.1, -56.3]\n",
    "printlst = lambda x, y : print(f\"{x} =\", y)\n",
    "printval = lambda x, y : print(f\"최댓값 : {x}\\n최솟값 : {y}\")\n",
    "\n",
    "printlst(\"n_list\", n_list)\n",
    "# 1. bulit-in function 이용해서 구현하기\n",
    "printval(max(n_list), min(n_list))\n",
    "\n",
    "# 2. user-defined function 이용하여 구현하기\n",
    "def my_min(lst: list) -> int:\n",
    "    minimum = lst[0]\n",
    "    for i in lst:\n",
    "        if i < minimum:\n",
    "            minimum = i\n",
    "    return minimum\n",
    "\n",
    "def my_max(lst: list) -> int:\n",
    "    maximum= lst[0]\n",
    "    for i in lst:\n",
    "        if i > maximum:\n",
    "            maximum = i\n",
    "    return maximum\n",
    "printval(my_max(n_list), my_min(n_list))\n",
    "\n",
    "# 3. reduce() function을 통한 구현\n",
    "maximum = reduce(lambda x, y: x if x > y else y, n_list)\n",
    "minimum = reduce(lambda x, y: x if x < y else y, n_list)\n",
    "printval(maximum, minimum)\n",
    "\n"
   ]
  },
  {
   "cell_type": "code",
   "execution_count": 37,
   "metadata": {},
   "outputs": [
    {
     "name": "stdout",
     "output_type": "stream",
     "text": [
      "new_list = [6, 12, 18, 24, 30, 36, 42, 48, 54, 60, 66, 72, 78, 84, 90, 96]\n",
      "new_list = [6, 12, 18, 24, 30, 36, 42, 48, 54, 60, 66, 72, 78, 84, 90, 96]\n",
      "new_list = [6, 12, 18, 24, 30, 36, 42, 48, 54, 60, 66, 72, 78, 84, 90, 96]\n"
     ]
    }
   ],
   "source": [
    "# 문제 10.9 / [1, 100] 구간에서 6의 배수 찾기.\n",
    "\n",
    "printlst = lambda x : print(f\"new_list =\", x)\n",
    "# 1. for문 사용하여 구현하기\n",
    "new_list = []\n",
    "for i in range(1, 101):\n",
    "    if i % 6 == 0:\n",
    "        new_list.append(i)\n",
    "printlst(new_list)\n",
    "\n",
    "# 2. filter function을 통한 구현\n",
    "printlst(list(filter(lambda x: x % 6 == 0, range(1, 101))))\n",
    "\n",
    "# 3. list comprehension을 통한 구현\n",
    "printlst([x for x in range(1, 101) if x % 6 == 0])"
   ]
  },
  {
   "cell_type": "code",
   "execution_count": 38,
   "metadata": {},
   "outputs": [
    {
     "name": "stdout",
     "output_type": "stream",
     "text": [
      "new_list = [42, 84]\n",
      "new_list = [42, 84]\n",
      "new_list = [42, 84]\n"
     ]
    }
   ],
   "source": [
    "# 문제 10.10 / [1, 100] 구간에서 6과 7의 배수 찾기.\n",
    "\n",
    "printlst = lambda x : print(f\"new_list =\", x)\n",
    "# 1. for문 사용하여 구현하기\n",
    "new_list = []\n",
    "for i in range(1, 101):\n",
    "    if i % 6 == 0 and i % 7 == 0:\n",
    "        new_list.append(i)\n",
    "printlst(new_list)\n",
    "\n",
    "# 2. filter function을 통한 구현\n",
    "printlst(list(filter(lambda x: x % 6 == 0 and x % 7 == 0, range(1,101))))\n",
    "\n",
    "# 3. list comprehension을 통한 구현\n",
    "printlst([x for x in range(1, 101) if x % 6 == 0 and x % 7 == 0])"
   ]
  },
  {
   "cell_type": "code",
   "execution_count": 39,
   "metadata": {},
   "outputs": [
    {
     "name": "stdout",
     "output_type": "stream",
     "text": [
      "['One', 'Two', 'Three', 'Four']\n",
      "['One', 'Two', 'Three', 'Four']\n",
      "['One', 'Two', 'Three', 'Four']\n"
     ]
    }
   ],
   "source": [
    "# 문제 10.11 / 단어로 구성된 리스트에서 각 단어의 첫글자 대문자로 변환.\n",
    "\n",
    "lst = [\"one\", \"two\", \"three\", \"four\"]\n",
    "\n",
    "# 1. for문 사용하여 구현하기\n",
    "new_list = []\n",
    "for s in lst:\n",
    "    new_list.append(s[0].upper() + s[1::])\n",
    "print(new_list)\n",
    "\n",
    "# 2. map() function을 통한 구현\n",
    "print(list(map(lambda x: x.capitalize(), lst)))\n",
    "\n",
    "# 3. list comprehension을 통한 구현\n",
    "print([x.capitalize() for x in lst])"
   ]
  },
  {
   "cell_type": "code",
   "execution_count": 40,
   "metadata": {},
   "outputs": [
    {
     "name": "stdout",
     "output_type": "stream",
     "text": [
      "['SUN', 'MON', 'TUE', 'WED', 'THU', 'FRI', 'SAT']\n",
      "['SUN', 'MON', 'TUE', 'WED', 'THU', 'FRI', 'SAT']\n",
      "['SUN', 'MON', 'TUE', 'WED', 'THU', 'FRI', 'SAT']\n"
     ]
    }
   ],
   "source": [
    "# 문제 10.12 / 단어로 구성된 리스트에서 각 단어 추출해서 가공.\n",
    "\n",
    "lst = ['sunday', 'monday', 'tuesday', 'wednesday', 'thursday', 'friday', 'saturday']\n",
    "\n",
    "# 1. for문 사용하여 구현하기\n",
    "new_list = []\n",
    "for s in lst:\n",
    "    new_list.append(s[:3].upper())\n",
    "print(new_list)\n",
    "\n",
    "# 2. map() function을 통한 구현\n",
    "print(list(map(lambda x: x[:3].upper(), lst)))\n",
    "\n",
    "# 3. list comprehension을 통한 구현\n",
    "print([x[:3].upper() for x in lst])"
   ]
  },
  {
   "cell_type": "code",
   "execution_count": 41,
   "metadata": {},
   "outputs": [
    {
     "name": "stdout",
     "output_type": "stream",
     "text": [
      "[2004, 2008, 2012, 2016, 2020, 2024, 2028]\n",
      "[2004, 2008, 2012, 2016, 2020, 2024, 2028]\n"
     ]
    }
   ],
   "source": [
    "# 문제 10.13 / 윤년 구하기.\n",
    "\n",
    "# 1. filter() function을 통한 구현\n",
    "def leap(begin: int, end: int) -> list:\n",
    "    return list(filter(lambda x: (x % 4 == 0 and x % 100 != 0) or (x % 400 ==0), range(begin, end+1)))\n",
    "print(leap(2001, 2030))\n",
    "\n",
    "# 2. list comprehension을 통한 구현\n",
    "def leap(begin: int, end: int) -> list:\n",
    "    return [x for x in range(begin, end+1) if (x % 4 == 0 and x % 100 != 0) or (x % 400 ==0)]\n",
    "print(leap(2001, 2030))"
   ]
  },
  {
   "cell_type": "code",
   "execution_count": 42,
   "metadata": {},
   "outputs": [
    {
     "name": "stdout",
     "output_type": "stream",
     "text": [
      "['Apple = 사과', 'Strawberry = 딸기', 'Peach = 복숭아', 'Grape = 포도']\n",
      "['Apple = 사과', 'Strawberry = 딸기', 'Peach = 복숭아', 'Grape = 포도']\n",
      "['Apple = 사과', 'Strawberry = 딸기', 'Peach = 복숭아', 'Grape = 포도']\n"
     ]
    }
   ],
   "source": [
    "# 문제 10.14 / 딕셔너리 재구성하기.\n",
    "\n",
    "fruits = {'Apple':'사과', 'Strawberry':'딸기', 'Peach':'복숭아','Grape':'포도'}\n",
    "\n",
    "# 1. for문 사용하여 구현하기\n",
    "lst = []\n",
    "for k,v in fruits.items():\n",
    "    lst.append(f\"{k} = {v}\")\n",
    "print(lst)\n",
    "\n",
    "# 2. map() function을 통한 구현\n",
    "print(list(map(lambda x: f\"{x[0]} = {x[1]}\", fruits.items())))\n",
    "\n",
    "# 3. list comprehension을 통한 구현\n",
    "print([f\"{x[0]} = {x[1]}\" for x in fruits.items()])"
   ]
  },
  {
   "cell_type": "code",
   "execution_count": 43,
   "metadata": {},
   "outputs": [
    {
     "name": "stdout",
     "output_type": "stream",
     "text": [
      "fruits_list = ['Apple = 사과', 'Strawberry = 딸기', 'Peach = 복숭아', 'Grape = 포도']\n",
      "fruits = {'Apple': '사과', 'Strawberry': '딸기', 'Peach': '복숭아', 'Grape': '포도'}\n",
      "fruits = {'Apple': '사과', 'Strawberry': '딸기', 'Peach': '복숭아', 'Grape': '포도'}\n"
     ]
    }
   ],
   "source": [
    "# 문제 10.15 / 리스트 -> 딕셔너리 변환.\n",
    "\n",
    "printlst = lambda x, y : print(f\"{x} =\", y)\n",
    "fruits_list = ['Apple = 사과', 'Strawberry = 딸기', 'Peach = 복숭아', 'Grape = 포도']\n",
    "printlst(\"fruits_list\", fruits_list)\n",
    "\n",
    "fruits = {}\n",
    "# 1. for문을 통한 구현\n",
    "for i in fruits_list:\n",
    "    fruits[i.split()[0]] = i.split()[2]\n",
    "printlst(\"fruits\", fruits)\n",
    "\n",
    "# 2. dictionary comprehension을 통한 구현\n",
    "printlst('fruits', {x.split()[0] : x.split()[2] for x in fruits_list})"
   ]
  },
  {
   "cell_type": "code",
   "execution_count": 44,
   "metadata": {},
   "outputs": [
    {
     "name": "stdout",
     "output_type": "stream",
     "text": [
      "test_list = ['No. 224', 'No. 587', 'No. 29', 'No. 37']\n",
      "num_list = ['224', '587', '29', '37']\n",
      "num_list = ['224', '587', '29', '37']\n"
     ]
    }
   ],
   "source": [
    "# 문제 10.16 / 리스트 요소에서 문자열 제거하고 정수 리스트로 변환.\n",
    "\n",
    "printlst = lambda x, y : print(f\"{x} =\", y)\n",
    "test_list = ['No. 224', \"No. 587\", \"No. 29\", \"No. 37\"]\n",
    "printlst(\"test_list\", test_list)\n",
    "\n",
    "# 1. for문을 통한 구현\n",
    "num_list = []\n",
    "for i in test_list:\n",
    "    num_list.append(i.split()[1])\n",
    "printlst(\"num_list\", num_list)\n",
    "\n",
    "# 2. list comprehension을 통한 구현\n",
    "printlst(\"num_list\", [x.split()[1] for x in test_list])\n"
   ]
  },
  {
   "cell_type": "code",
   "execution_count": 45,
   "metadata": {},
   "outputs": [
    {
     "name": "stdout",
     "output_type": "stream",
     "text": [
      "org_list = [8, 5, 12, 34, 3, 2, 97, 23, 45]\n",
      "part_list = [3, 5, 2, 8, 34, 12, 97, 23, 45]\n"
     ]
    }
   ],
   "source": [
    "# 문제 10.17 / 피봇기준 분할하기.\n",
    "\n",
    "printlst = lambda x, y : print(f\"{x} =\", y)\n",
    "def partition(lst: list) -> list:\n",
    "    pivot = lst[0]\n",
    "    left = 1\n",
    "    right = len(lst) - 1\n",
    "    while left <= right:\n",
    "        while left <= right and lst[left] <= pivot:\n",
    "            left += 1\n",
    "        while left <= right and lst[right] > pivot:\n",
    "            right -= 1\n",
    "        if left <= right:\n",
    "            lst[left], lst[right] = lst[right], lst[left]\n",
    "    lst[0], lst[right] = lst[right], lst[0]\n",
    "    return lst\n",
    "\n",
    "\n",
    "org_list = [8, 5, 12, 34, 3, 2, 97, 23, 45]\n",
    "printlst(\"org_list\",org_list)\n",
    "printlst(\"part_list\",partition(org_list))"
   ]
  },
  {
   "cell_type": "code",
   "execution_count": 85,
   "metadata": {},
   "outputs": [
    {
     "name": "stdout",
     "output_type": "stream",
     "text": [
      "org_list = [34, 6, 8, 23, 56, 22, 4, 66, 7, 39, 63, 41, 99, 17]\n",
      "part_list = [7, 6, 8, 23, 17, 22, 4, 34, 66, 39, 63, 41, 99, 56]\n"
     ]
    }
   ],
   "source": [
    "# 문제 10.18 / 사용자에게 임의의 숫자 입력받아서 분할하기.\n",
    "\n",
    "org_list = [int(x) for x in input(\"임의의 정수를 입력하시오 : \").split()]\n",
    "printlst(\"org_list\",org_list)\n",
    "printlst(\"part_list\",partition(org_list))"
   ]
  },
  {
   "cell_type": "code",
   "execution_count": null,
   "metadata": {},
   "outputs": [
    {
     "name": "stdout",
     "output_type": "stream",
     "text": [
      "org_list = [[1, 2, 3, 4], [5, 6, 7, 8], [9, 10, 11, 12]]\n",
      "new_list = [1, 2, 3, 4, 5, 6, 7, 8, 9, 10, 11, 12]\n",
      "new_list = [1, 2, 3, 4, 5, 6, 7, 8, 9, 10, 11, 12]\n"
     ]
    }
   ],
   "source": [
    "# 문제 10.19 / flatten() function 구현하기.\n",
    "\n",
    "printlst = lambda x, y : print(f\"{x} =\", y)\n",
    "org_list = [[1,2,3,4], [5,6,7,8], [9,10,11,12]]\n",
    "printlst(\"org_list\", org_list)\n",
    "\n",
    "# 1. 이중 for문을 통한 구현\n",
    "def flatten(lst: list) -> list:\n",
    "    out = []\n",
    "    for i in org_list:\n",
    "        for j in i:\n",
    "            out.append(j)\n",
    "    return out\n",
    "printlst(\"new_list\", flatten(org_list))\n",
    "\n",
    "def flatten(lst: list) -> list:\n",
    "    return [y for x in lst for y in x]\n",
    "printlst(\"new_list\", flatten(org_list))"
   ]
  },
  {
   "cell_type": "code",
   "execution_count": null,
   "metadata": {},
   "outputs": [
    {
     "name": "stdout",
     "output_type": "stream",
     "text": [
      "처음으로 나타나는 홀수는 :  3\n"
     ]
    }
   ],
   "source": [
    "# 문제 10.20 / 리스트에서 가장 먼저 나타나는 홀수 찾기.\n",
    "\n",
    "numbers = [2,8,6,4,3,1,4,6,2]\n",
    "\n",
    "def first_odd(lst: list) -> int:\n",
    "    for i in lst:\n",
    "        if i % 2:\n",
    "            return i\n",
    "print(\"처음으로 나타나는 홀수는 : \", first_odd(numbers))"
   ]
  },
  {
   "cell_type": "code",
   "execution_count": null,
   "metadata": {},
   "outputs": [
    {
     "name": "stdout",
     "output_type": "stream",
     "text": [
      "16 14 12 10 9 8 7 6 5 4 3 2 1 \n",
      "마지막 홀수는 : 9\n"
     ]
    }
   ],
   "source": [
    "# 문제 10.21 / 요소를 반대로 돌려주는 제너레이터 구현.\n",
    "\n",
    "numbers = [1,2,3,4,5,6,7,8,9,10,12,14,16]\n",
    "\n",
    "# 1. 리스트를 역으로 순환하는 제너레이터 구현\n",
    "def reverse_generator(lst: list):\n",
    "    for i in lst[::-1]:\n",
    "        yield i\n",
    "\n",
    "for i in reverse_generator(numbers):\n",
    "    print(i, end=\" \")\n",
    "print()\n",
    "\n",
    "# 2. 제네레이터를 이용하여 가장 마지막에 나타나는 홀수 찾기\n",
    "def last_odd(lst: list) -> int:\n",
    "    for i in reverse_generator(lst):\n",
    "        if i % 2:\n",
    "            return i\n",
    "print(\"마지막 홀수는 :\", last_odd(numbers))"
   ]
  },
  {
   "cell_type": "code",
   "execution_count": null,
   "metadata": {},
   "outputs": [
    {
     "name": "stdout",
     "output_type": "stream",
     "text": [
      "전체 학생의 수는 6명입니다.\n",
      "유효 점수 획득 학생의 수는 4명입니다.\n",
      "[[100, 90, 95], [90, 80, 70], [100, 75, 20], [30, 50, 90]]\n"
     ]
    }
   ],
   "source": [
    "# 문제 10.22 / 학생 성적 리스트에서 유효점수만 가진 학생 구분하기.\n",
    "\n",
    "scores = [100,90,95,90,80,70,0,80,90,90,0,90,100,75,20,30,50,90]\n",
    "\n",
    "valid_scores = [scores[i:i+3] for i in range(0, len(scores), 3) if min(scores[i:i+3]) != 0]\n",
    "print(f\"전체 학생의 수는 {len(scores)//3}명입니다.\")\n",
    "print(f\"유효 점수 획득 학생의 수는 {len(valid_scores)}명입니다.\\n{valid_scores}\")"
   ]
  },
  {
   "cell_type": "code",
   "execution_count": null,
   "metadata": {},
   "outputs": [
    {
     "name": "stdout",
     "output_type": "stream",
     "text": [
      "20세기가 아닙니다.\n",
      "제대로 된 입력이 아닙니다.\n"
     ]
    }
   ],
   "source": [
    "# 문제 10.23 / 날짜 입력받아서 유효성 검사하기.\n",
    "\n",
    "import datetime as dt\n",
    "date = list(map(int, input(\"연월일을 .으로 구분하여 입력하시오(예: 1987.01.01.) : \").split('.')[:-1]))\n",
    "\n",
    "isValid = True\n",
    "# 1. 년도 유효성 검사\n",
    "if date[0] > 1999 or date[0] < 1900:\n",
    "    print(\"20세기가 아닙니다.\")\n",
    "    isValid = False\n",
    "\n",
    "# .2 / .3 일, 월 유효성 검사\n",
    "if isValid:\n",
    "    try:\n",
    "        check = dt.date(date[0],date[1],date[2])\n",
    "    except Exception as e:\n",
    "        if e == \"day is out of range for month\":\n",
    "                print(\"잘못된 일입니다.\")\n",
    "        else:\n",
    "                print(\"잘못된 월입니다.\")\n",
    "        isValid = False\n",
    "\n",
    "print(\"제대로 된 입력\" + (\"입니다\" if isValid else \"이 아닙니다.\"))\n",
    "\n"
   ]
  },
  {
   "cell_type": "code",
   "execution_count": null,
   "metadata": {},
   "outputs": [
    {
     "name": "stdout",
     "output_type": "stream",
     "text": [
      "a1 = [(1, 4), (2, 1), (2, 3), (2, 5), (4, 7)]\n",
      "a2 = [(2, 1), (2, 3), (1, 4), (2, 5), (4, 7)]\n"
     ]
    }
   ],
   "source": [
    "# 문제 10.24 / 리스트 원소에 따라 정렬하기.\n",
    "\n",
    "a = [(2,5),(1,4),(4,7),(2,3),(2,1)]\n",
    "print(\"a1 =\", sorted(a, key=lambda x: (x[0],x[1])))\n",
    "print(\"a2 =\", sorted(a, key=lambda x: (x[1],x[0])))"
   ]
  },
  {
   "cell_type": "code",
   "execution_count": null,
   "metadata": {},
   "outputs": [
    {
     "name": "stdout",
     "output_type": "stream",
     "text": [
      "[11, 13, 17, 19, 23, 29, 31, 37, 41, 43, 47]\n"
     ]
    }
   ],
   "source": [
    "# 문제 10.25 / 소수 판별함수 리팩토링\n",
    "\n",
    "print([x for x in range(10, 51) if x == 2 or x == 3 or (x % 2 and all([x % y for y in range(3, x, 2)]))])"
   ]
  }
 ],
 "metadata": {
  "kernelspec": {
   "display_name": "Python 3",
   "language": "python",
   "name": "python3"
  },
  "language_info": {
   "codemirror_mode": {
    "name": "ipython",
    "version": 3
   },
   "file_extension": ".py",
   "mimetype": "text/x-python",
   "name": "python",
   "nbconvert_exporter": "python",
   "pygments_lexer": "ipython3",
   "version": "3.10.6"
  },
  "orig_nbformat": 4
 },
 "nbformat": 4,
 "nbformat_minor": 2
}
